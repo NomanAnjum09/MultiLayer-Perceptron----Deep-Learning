{
 "cells": [
  {
   "cell_type": "code",
   "execution_count": 1,
   "metadata": {},
   "outputs": [
    {
     "name": "stdout",
     "output_type": "stream",
     "text": [
      "WARNING:tensorflow:From <ipython-input-1-27c88a846fa5>:4: read_data_sets (from input_data) is deprecated and will be removed in a future version.\n",
      "Instructions for updating:\n",
      "Please use alternatives such as: tensorflow_datasets.load('mnist')\n",
      "WARNING:tensorflow:From /home/noman/B Drive/Codes/Practice/Python/Deep Learning/P1/input_data.py:296: _maybe_download (from input_data) is deprecated and will be removed in a future version.\n",
      "Instructions for updating:\n",
      "Please write your own downloading logic.\n",
      "WARNING:tensorflow:From /home/noman/B Drive/Codes/Practice/Python/Deep Learning/P1/input_data.py:299: _extract_images (from input_data) is deprecated and will be removed in a future version.\n",
      "Instructions for updating:\n",
      "Please use tf.data to implement this functionality.\n",
      "Extracting MNIST_data/train-images-idx3-ubyte.gz\n",
      "WARNING:tensorflow:From /home/noman/B Drive/Codes/Practice/Python/Deep Learning/P1/input_data.py:304: _extract_labels (from input_data) is deprecated and will be removed in a future version.\n",
      "Instructions for updating:\n",
      "Please use tf.data to implement this functionality.\n",
      "Extracting MNIST_data/train-labels-idx1-ubyte.gz\n",
      "WARNING:tensorflow:From /home/noman/B Drive/Codes/Practice/Python/Deep Learning/P1/input_data.py:112: _dense_to_one_hot (from input_data) is deprecated and will be removed in a future version.\n",
      "Instructions for updating:\n",
      "Please use tf.one_hot on tensors.\n",
      "Extracting MNIST_data/t10k-images-idx3-ubyte.gz\n",
      "Extracting MNIST_data/t10k-labels-idx1-ubyte.gz\n",
      "WARNING:tensorflow:From /home/noman/B Drive/Codes/Practice/Python/Deep Learning/P1/input_data.py:328: _DataSet.__init__ (from input_data) is deprecated and will be removed in a future version.\n",
      "Instructions for updating:\n",
      "Please use alternatives such as official/mnist/_DataSet.py from tensorflow/models.\n"
     ]
    }
   ],
   "source": [
    "import numpy as np\n",
    "import tensorflow as tf\n",
    "import input_data\n",
    "mnist = input_data.read_data_sets('MNIST_data',one_hot=True)"
   ]
  },
  {
   "cell_type": "code",
   "execution_count": 2,
   "metadata": {},
   "outputs": [],
   "source": [
    "# Parameters\n",
    "learning_rate = 0.001\n",
    "training_epochs = 15\n",
    "batch_size = 100\n",
    "display_steps = 1\n",
    "\n",
    "#Network Parameters\n",
    "n_hidden_1 = 256\n",
    "n_hidden_2 = 256\n",
    "n_input = 784\n",
    "n_classes = 10"
   ]
  },
  {
   "cell_type": "code",
   "execution_count": 3,
   "metadata": {},
   "outputs": [],
   "source": [
    "# tf graph input\n",
    "tf.compat.v1.disable_eager_execution()\n",
    "X = tf.compat.v1.placeholder(\"float\",[None,n_input])\n",
    "y = tf.compat.v1.placeholder(\"float\",[None,n_classes])\n"
   ]
  },
  {
   "cell_type": "code",
   "execution_count": 4,
   "metadata": {},
   "outputs": [
    {
     "name": "stdout",
     "output_type": "stream",
     "text": [
      "WARNING:tensorflow:From /home/noman/.local/lib/python3.8/site-packages/tensorflow/python/ops/resource_variable_ops.py:1659: calling BaseResourceVariable.__init__ (from tensorflow.python.ops.resource_variable_ops) with constraint is deprecated and will be removed in a future version.\n",
      "Instructions for updating:\n",
      "If using Keras pass *_constraint arguments to layers.\n"
     ]
    }
   ],
   "source": [
    "weights = {\n",
    "    \"h1\":tf.Variable(tf.compat.v1.random_normal([n_input,n_hidden_1])),\n",
    "    \"h2\":tf.Variable(tf.compat.v1.random_normal([n_hidden_1,n_hidden_2])),\n",
    "    \"out\":tf.Variable(tf.compat.v1.random_normal([n_hidden_2,n_classes]))\n",
    "          \n",
    "          }\n",
    "\n",
    "biases = {\n",
    "    \"b1\":tf.Variable(tf.compat.v1.random_normal([n_hidden_1])),\n",
    "    \"b2\":tf.Variable(tf.compat.v1.random_normal([n_hidden_2])),\n",
    "    \"out\":tf.Variable(tf.compat.v1.random_normal([n_classes]))\n",
    "}"
   ]
  },
  {
   "cell_type": "code",
   "execution_count": 7,
   "metadata": {},
   "outputs": [],
   "source": [
    "# Multiplayer Perceptron\n",
    "\n",
    "def multilayer_perceptron(x):\n",
    "    # hidden fully connected layer with 256 neurons\n",
    "    layer1 = tf.add(tf.matmul(x,weights['h1']),biases['b1'])\n",
    "    layer2 = tf.add(tf.matmul(layer1,weights['h2']),biases['b2'])\n",
    "    out_layer = tf.add(tf.matmul(layer2,weights['out']),biases['out'])\n",
    "    \n",
    "    return out_layer"
   ]
  },
  {
   "cell_type": "code",
   "execution_count": 8,
   "metadata": {},
   "outputs": [],
   "source": [
    "logit = multilayer_perceptron(X)\n",
    "\n",
    "loss = tf.reduce_mean(tf.nn.softmax_cross_entropy_with_logits(\n",
    "logits=logit,labels=y))\n",
    "\n",
    "optimizer = tf.compat.v1.train.AdamOptimizer(learning_rate=learning_rate)\n",
    "train_op = optimizer.minimize(loss)\n",
    "init = tf.compat.v1.global_variables_initializer()"
   ]
  },
  {
   "cell_type": "code",
   "execution_count": 9,
   "metadata": {},
   "outputs": [
    {
     "name": "stdout",
     "output_type": "stream",
     "text": [
      "Epoch : 1, Cost 318.0158358348497\n",
      "Epoch : 2, Cost 102.1064302513816\n",
      "Epoch : 3, Cost 74.31456960157915\n",
      "Epoch : 4, Cost 60.141673303083884\n",
      "Epoch : 5, Cost 50.67453061970802\n",
      "Epoch : 6, Cost 44.862774529457084\n",
      "Epoch : 7, Cost 40.80014093399053\n",
      "Epoch : 8, Cost 36.33177082278513\n",
      "Epoch : 9, Cost 33.57272273237055\n",
      "Epoch : 10, Cost 30.7395123837211\n",
      "Epoch : 11, Cost 28.868015602285215\n",
      "Epoch : 12, Cost 26.857013228156347\n",
      "Epoch : 13, Cost 25.768157681551873\n",
      "Epoch : 14, Cost 24.970954780578616\n",
      "Epoch : 15, Cost 23.649149678620432\n",
      "Done With Optimization\n"
     ]
    }
   ],
   "source": [
    "with tf.compat.v1.Session() as sess:\n",
    "    sess.run(init)\n",
    "    \n",
    "    for epoch in range(training_epochs):\n",
    "        avg_cost = 0.\n",
    "        total_batch = int(mnist.train.num_examples/batch_size)\n",
    "        #loop over all batch\n",
    "        for i in range(total_batch):\n",
    "            batch_x,batch_y = mnist.train.next_batch(batch_size)\n",
    "            _,c = sess.run([train_op,loss],feed_dict = {X:batch_x,y:batch_y})\n",
    "            \n",
    "            #compute avg loss\n",
    "            avg_cost += c/total_batch \n",
    "        if epoch % display_steps ==0:\n",
    "            print(\"Epoch : {}, Cost {}\".format(epoch+1,avg_cost))\n",
    "    print(\"Done With Optimization\")"
   ]
  },
  {
   "cell_type": "markdown",
   "metadata": {},
   "source": [
    "# Multilayer Perceptron With Keras"
   ]
  },
  {
   "cell_type": "code",
   "execution_count": 16,
   "metadata": {},
   "outputs": [],
   "source": [
    "from keras.datasets import mnist\n",
    "import matplotlib.pyplot as plt\n",
    "import numpy as np\n",
    "from keras.models import Sequential\n",
    "from keras.layers import Dense\n",
    "from keras.layers import Dropout\n",
    "from keras.utils import np_utils"
   ]
  },
  {
   "cell_type": "code",
   "execution_count": 17,
   "metadata": {},
   "outputs": [],
   "source": [
    "(X_train,y_train),(X_test,y_test) = mnist.load_data()"
   ]
  },
  {
   "cell_type": "code",
   "execution_count": 18,
   "metadata": {},
   "outputs": [
    {
     "name": "stdout",
     "output_type": "stream",
     "text": [
      "784\n",
      "(60000, 784)\n",
      "(10000, 784)\n"
     ]
    }
   ],
   "source": [
    "num_pixels = X_train.shape[1] * X_train.shape[2]\n",
    "X_train = X_train.reshape(X_train.shape[0],num_pixels).astype(\"float32\")\n",
    "X_test = X_test.reshape(X_test.shape[0],num_pixels).astype(\"float32\")\n",
    "print(num_pixels)\n",
    "print(X_train.shape)\n",
    "print(X_test.shape)"
   ]
  },
  {
   "cell_type": "code",
   "execution_count": 19,
   "metadata": {},
   "outputs": [
    {
     "name": "stdout",
     "output_type": "stream",
     "text": [
      "10\n"
     ]
    }
   ],
   "source": [
    "# normalize input from 0-255 to 0-1\n",
    "\n",
    "X_train = X_train / 255\n",
    "X_test = X_test / 255\n",
    "\n",
    "#oe hot encode output\n",
    "\n",
    "y_train = np_utils.to_categorical(y_train)\n",
    "y_test = np_utils.to_categorical(y_test)\n",
    "num_classes = y_test.shape[1]\n",
    "print(num_classes)"
   ]
  },
  {
   "cell_type": "code",
   "execution_count": 14,
   "metadata": {},
   "outputs": [],
   "source": [
    "# Hidden Layer with 784 neurons"
   ]
  },
  {
   "cell_type": "code",
   "execution_count": 20,
   "metadata": {},
   "outputs": [],
   "source": [
    "def baseline_model():\n",
    "    model = Sequential()\n",
    "    model.add(Dense(num_pixels,input_dim=num_pixels,kernel_initializer=\"normal\",activation=\"relu\"))\n",
    "    model.add(Dense(num_classes,kernel_initializer=\"normal\",activation=\"softmax\"))\n",
    "    \n",
    "    model.compile(loss=\"categorical_crossentropy\",optimizer=\"adam\",metrics=['accuracy'])\n",
    "    return model"
   ]
  },
  {
   "cell_type": "code",
   "execution_count": 21,
   "metadata": {},
   "outputs": [
    {
     "name": "stdout",
     "output_type": "stream",
     "text": [
      "Train on 60000 samples, validate on 10000 samples\n",
      "Epoch 1/10\n",
      " - 4s - loss: 0.2771 - accuracy: 0.9201 - val_loss: 0.1347 - val_accuracy: 0.9585\n",
      "Epoch 2/10\n",
      " - 3s - loss: 0.1094 - accuracy: 0.9681 - val_loss: 0.0986 - val_accuracy: 0.9710\n",
      "Epoch 3/10\n",
      " - 3s - loss: 0.0700 - accuracy: 0.9794 - val_loss: 0.0754 - val_accuracy: 0.9758\n",
      "Epoch 4/10\n",
      " - 4s - loss: 0.0490 - accuracy: 0.9860 - val_loss: 0.0764 - val_accuracy: 0.9756\n",
      "Epoch 5/10\n",
      " - 3s - loss: 0.0355 - accuracy: 0.9899 - val_loss: 0.0644 - val_accuracy: 0.9796\n",
      "Epoch 6/10\n",
      " - 3s - loss: 0.0262 - accuracy: 0.9933 - val_loss: 0.0570 - val_accuracy: 0.9821\n",
      "Epoch 7/10\n",
      " - 3s - loss: 0.0187 - accuracy: 0.9955 - val_loss: 0.0645 - val_accuracy: 0.9794\n",
      "Epoch 8/10\n",
      " - 3s - loss: 0.0150 - accuracy: 0.9964 - val_loss: 0.0624 - val_accuracy: 0.9800\n",
      "Epoch 9/10\n",
      " - 3s - loss: 0.0108 - accuracy: 0.9977 - val_loss: 0.0632 - val_accuracy: 0.9810\n",
      "Epoch 10/10\n",
      " - 3s - loss: 0.0079 - accuracy: 0.9987 - val_loss: 0.0560 - val_accuracy: 0.9823\n",
      "Baseline Error : 1.7700016498565674\n"
     ]
    }
   ],
   "source": [
    "model = baseline_model()\n",
    "model.fit(X_train,y_train,validation_data=(X_test,y_test), epochs=10, batch_size=200,verbose=2)\n",
    "# Evaluation of model\n",
    "\n",
    "scores = model.evaluate(X_test,y_test,verbose=0)\n",
    "print(\"Baseline Error : {}\".format(100-scores[1]*100))"
   ]
  },
  {
   "cell_type": "code",
   "execution_count": 30,
   "metadata": {},
   "outputs": [
    {
     "name": "stdout",
     "output_type": "stream",
     "text": [
      "(784,)\n"
     ]
    }
   ],
   "source": [
    "print(X_test[0].shape)\n",
    "prediction = model.predict(X_test)"
   ]
  },
  {
   "cell_type": "code",
   "execution_count": 46,
   "metadata": {},
   "outputs": [
    {
     "name": "stdout",
     "output_type": "stream",
     "text": [
      "[0. 1. 0. 0. 0. 0. 0. 0. 0. 0.]\n",
      "[0. 1. 0. 0. 0. 0. 0. 0. 0. 0.]\n"
     ]
    }
   ],
   "source": [
    "print(np.round(prediction[5],1))\n",
    "print(y_test[5])"
   ]
  },
  {
   "cell_type": "code",
   "execution_count": 40,
   "metadata": {},
   "outputs": [
    {
     "name": "stdout",
     "output_type": "stream",
     "text": [
      "[0. 0. 0. 0. 0. 0. 0. 1. 0. 0.]\n"
     ]
    }
   ],
   "source": []
  },
  {
   "cell_type": "code",
   "execution_count": null,
   "metadata": {},
   "outputs": [],
   "source": []
  }
 ],
 "metadata": {
  "kernelspec": {
   "display_name": "Python 3",
   "language": "python",
   "name": "python3"
  },
  "language_info": {
   "codemirror_mode": {
    "name": "ipython",
    "version": 3
   },
   "file_extension": ".py",
   "mimetype": "text/x-python",
   "name": "python",
   "nbconvert_exporter": "python",
   "pygments_lexer": "ipython3",
   "version": "3.8.2"
  }
 },
 "nbformat": 4,
 "nbformat_minor": 4
}
